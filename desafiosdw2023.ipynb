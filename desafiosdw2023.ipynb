{
 "cells": [
  {
   "cell_type": "markdown",
   "id": "db0d763b",
   "metadata": {},
   "source": [
    "# Desafio DIO"
   ]
  },
  {
   "cell_type": "code",
   "execution_count": 2,
   "id": "b73c9502",
   "metadata": {},
   "outputs": [],
   "source": [
    "sdw2023_api_url = 'https://sdw-2023-prd.up.railway.app'"
   ]
  },
  {
   "cell_type": "markdown",
   "id": "e987dde3",
   "metadata": {},
   "source": [
    "## Extrair os IDs do arquivo CSV"
   ]
  },
  {
   "cell_type": "code",
   "execution_count": 3,
   "id": "161b3839",
   "metadata": {},
   "outputs": [],
   "source": [
    "import pandas as pd"
   ]
  },
  {
   "cell_type": "code",
   "execution_count": 4,
   "id": "759df01c",
   "metadata": {},
   "outputs": [],
   "source": [
    "df = pd.read_csv('SDW2023.CSV')"
   ]
  },
  {
   "cell_type": "code",
   "execution_count": 9,
   "id": "d713f588",
   "metadata": {},
   "outputs": [
    {
     "data": {
      "text/html": [
       "<div>\n",
       "<style scoped>\n",
       "    .dataframe tbody tr th:only-of-type {\n",
       "        vertical-align: middle;\n",
       "    }\n",
       "\n",
       "    .dataframe tbody tr th {\n",
       "        vertical-align: top;\n",
       "    }\n",
       "\n",
       "    .dataframe thead th {\n",
       "        text-align: right;\n",
       "    }\n",
       "</style>\n",
       "<table border=\"1\" class=\"dataframe\">\n",
       "  <thead>\n",
       "    <tr style=\"text-align: right;\">\n",
       "      <th></th>\n",
       "      <th>UserID</th>\n",
       "    </tr>\n",
       "  </thead>\n",
       "  <tbody>\n",
       "    <tr>\n",
       "      <th>0</th>\n",
       "      <td>320</td>\n",
       "    </tr>\n",
       "    <tr>\n",
       "      <th>1</th>\n",
       "      <td>321</td>\n",
       "    </tr>\n",
       "    <tr>\n",
       "      <th>2</th>\n",
       "      <td>322</td>\n",
       "    </tr>\n",
       "  </tbody>\n",
       "</table>\n",
       "</div>"
      ],
      "text/plain": [
       "   UserID\n",
       "0     320\n",
       "1     321\n",
       "2     322"
      ]
     },
     "execution_count": 9,
     "metadata": {},
     "output_type": "execute_result"
    }
   ],
   "source": [
    "df"
   ]
  },
  {
   "cell_type": "code",
   "execution_count": 5,
   "id": "7c2cb280",
   "metadata": {},
   "outputs": [],
   "source": [
    "user_ids = df ['UserID'].tolist()"
   ]
  },
  {
   "cell_type": "code",
   "execution_count": 6,
   "id": "6d06fb4a",
   "metadata": {},
   "outputs": [
    {
     "name": "stdout",
     "output_type": "stream",
     "text": [
      "[320, 321, 322]\n"
     ]
    }
   ],
   "source": [
    "print (user_ids)"
   ]
  },
  {
   "cell_type": "markdown",
   "id": "4ba69f52",
   "metadata": {},
   "source": [
    "## Obter os dados de cada ID usando o API da Santander Dev Week 2023"
   ]
  },
  {
   "cell_type": "code",
   "execution_count": 7,
   "id": "17f833eb",
   "metadata": {},
   "outputs": [],
   "source": [
    "import requests\n",
    "import json"
   ]
  },
  {
   "cell_type": "code",
   "execution_count": 8,
   "id": "81d4d5a7",
   "metadata": {},
   "outputs": [
    {
     "name": "stdout",
     "output_type": "stream",
     "text": [
      "[\n",
      "  {\n",
      "    \"id\": 320,\n",
      "    \"name\": \"Jair\",\n",
      "    \"account\": {\n",
      "      \"id\": 331,\n",
      "      \"number\": \"00099-1\",\n",
      "      \"agency\": \"0001\",\n",
      "      \"balance\": 0.0,\n",
      "      \"limit\": 1000.0\n",
      "    },\n",
      "    \"card\": {\n",
      "      \"id\": 313,\n",
      "      \"number\": \"**** **** **** 2978\",\n",
      "      \"limit\": 1000.0\n",
      "    },\n",
      "    \"features\": [\n",
      "      {\n",
      "        \"id\": 101,\n",
      "        \"icon\": \"string\",\n",
      "        \"description\": \"string\"\n",
      "      }\n",
      "    ],\n",
      "    \"news\": [\n",
      "      {\n",
      "        \"id\": 963,\n",
      "        \"icon\": \"string\",\n",
      "        \"description\": \"string\"\n",
      "      },\n",
      "      {\n",
      "        \"id\": 1266,\n",
      "        \"icon\": \"https://digitalinnovationone.github.io/santander-dev-week-2023-api/icons/credit.svg\",\n",
      "        \"description\": \"Jair, as experi\\u00eancias acumuladas demonstram que a competitividade nas transa\\u00e7\\u00f5es comerciais oferece uma interessante oportunidade para verifica\\u00e7\\u00e3o das diversas correntes de pensamento. \"\n",
      "      }\n",
      "    ]\n",
      "  },\n",
      "  {\n",
      "    \"id\": 321,\n",
      "    \"name\": \"Lula\",\n",
      "    \"account\": {\n",
      "      \"id\": 332,\n",
      "      \"number\": \"00171-1\",\n",
      "      \"agency\": \"0001\",\n",
      "      \"balance\": 0.0,\n",
      "      \"limit\": 1000.0\n",
      "    },\n",
      "    \"card\": {\n",
      "      \"id\": 314,\n",
      "      \"number\": \"**** **** **** 0171\",\n",
      "      \"limit\": 1000.0\n",
      "    },\n",
      "    \"features\": [\n",
      "      {\n",
      "        \"id\": 102,\n",
      "        \"icon\": \"string\",\n",
      "        \"description\": \"string\"\n",
      "      }\n",
      "    ],\n",
      "    \"news\": [\n",
      "      {\n",
      "        \"id\": 964,\n",
      "        \"icon\": \"string\",\n",
      "        \"description\": \"string\"\n",
      "      },\n",
      "      {\n",
      "        \"id\": 1267,\n",
      "        \"icon\": \"https://digitalinnovationone.github.io/santander-dev-week-2023-api/icons/credit.svg\",\n",
      "        \"description\": \"Lula, percebemos, cada vez mais, que o novo modelo estrutural aqui preconizado talvez venha a ressaltar a relatividade do sistema de participa\\u00e7\\u00e3o geral. \"\n",
      "      }\n",
      "    ]\n",
      "  },\n",
      "  {\n",
      "    \"id\": 322,\n",
      "    \"name\": \"Neymar\",\n",
      "    \"account\": {\n",
      "      \"id\": 333,\n",
      "      \"number\": \"00172-1\",\n",
      "      \"agency\": \"0001\",\n",
      "      \"balance\": 0.0,\n",
      "      \"limit\": 1000.0\n",
      "    },\n",
      "    \"card\": {\n",
      "      \"id\": 315,\n",
      "      \"number\": \"**** **** **** 1979\",\n",
      "      \"limit\": 1000.0\n",
      "    },\n",
      "    \"features\": [\n",
      "      {\n",
      "        \"id\": 103,\n",
      "        \"icon\": \"string\",\n",
      "        \"description\": \"string\"\n",
      "      }\n",
      "    ],\n",
      "    \"news\": [\n",
      "      {\n",
      "        \"id\": 965,\n",
      "        \"icon\": \"string\",\n",
      "        \"description\": \"string\"\n",
      "      },\n",
      "      {\n",
      "        \"id\": 1268,\n",
      "        \"icon\": \"https://digitalinnovationone.github.io/santander-dev-week-2023-api/icons/credit.svg\",\n",
      "        \"description\": \"Neymar, a certifica\\u00e7\\u00e3o de metodologias que nos auxiliam a lidar com a valoriza\\u00e7\\u00e3o de fatores subjetivos apresenta tend\\u00eancias no sentido de aprovar a manuten\\u00e7\\u00e3o das posturas dos \\u00f3rg\\u00e3os dirigentes com rela\\u00e7\\u00e3o \\u00e0s suas atribui\\u00e7\\u00f5es. \"\n",
      "      }\n",
      "    ]\n",
      "  }\n",
      "]\n"
     ]
    }
   ],
   "source": [
    "def get_user(id):\n",
    "    response = requests.get(f'{sdw2023_api_url}/users/{id}')\n",
    "    return response.json() if response.status_code == 200 else None\n",
    "\n",
    "users = [user for id in user_ids if (user := get_user(id)) is not None]\n",
    "print (json.dumps(users, indent = 2))"
   ]
  },
  {
   "cell_type": "code",
   "execution_count": 1,
   "id": "71ed63e1",
   "metadata": {},
   "outputs": [
    {
     "name": "stdout",
     "output_type": "stream",
     "text": [
      "Collecting openai\n",
      "  Downloading openai-0.27.8-py3-none-any.whl (73 kB)\n",
      "\u001b[2K     \u001b[38;2;114;156;31m━━━━━━━━━━━━━━━━━━━━━━━━━━━━━━━━━━━━━━━━\u001b[0m \u001b[32m73.6/73.6 kB\u001b[0m \u001b[31m5.6 MB/s\u001b[0m eta \u001b[36m0:00:00\u001b[0m\n",
      "\u001b[?25hCollecting aiohttp\n",
      "  Downloading aiohttp-3.8.5-cp310-cp310-manylinux_2_17_x86_64.manylinux2014_x86_64.whl (1.0 MB)\n",
      "\u001b[2K     \u001b[38;2;114;156;31m━━━━━━━━━━━━━━━━━━━━━━━━━━━━━━━━━━━━━━━━\u001b[0m \u001b[32m1.0/1.0 MB\u001b[0m \u001b[31m19.5 MB/s\u001b[0m eta \u001b[36m0:00:00\u001b[0m31m27.3 MB/s\u001b[0m eta \u001b[36m0:00:01\u001b[0m\n",
      "\u001b[?25hRequirement already satisfied: requests>=2.20 in /home/paulo/anaconda3/lib/python3.10/site-packages (from openai) (2.28.1)\n",
      "Requirement already satisfied: tqdm in /home/paulo/anaconda3/lib/python3.10/site-packages (from openai) (4.64.1)\n",
      "Requirement already satisfied: urllib3<1.27,>=1.21.1 in /home/paulo/anaconda3/lib/python3.10/site-packages (from requests>=2.20->openai) (1.26.14)\n",
      "Requirement already satisfied: idna<4,>=2.5 in /home/paulo/anaconda3/lib/python3.10/site-packages (from requests>=2.20->openai) (3.4)\n",
      "Requirement already satisfied: charset-normalizer<3,>=2 in /home/paulo/anaconda3/lib/python3.10/site-packages (from requests>=2.20->openai) (2.0.4)\n",
      "Requirement already satisfied: certifi>=2017.4.17 in /home/paulo/anaconda3/lib/python3.10/site-packages (from requests>=2.20->openai) (2022.12.7)\n",
      "Collecting yarl<2.0,>=1.0\n",
      "  Downloading yarl-1.9.2-cp310-cp310-manylinux_2_17_x86_64.manylinux2014_x86_64.whl (268 kB)\n",
      "\u001b[2K     \u001b[38;2;114;156;31m━━━━━━━━━━━━━━━━━━━━━━━━━━━━━━━━━━━━━━\u001b[0m \u001b[32m268.8/268.8 kB\u001b[0m \u001b[31m27.4 MB/s\u001b[0m eta \u001b[36m0:00:00\u001b[0m\n",
      "\u001b[?25hCollecting async-timeout<5.0,>=4.0.0a3\n",
      "  Downloading async_timeout-4.0.3-py3-none-any.whl (5.7 kB)\n",
      "Collecting frozenlist>=1.1.1\n",
      "  Downloading frozenlist-1.4.0-cp310-cp310-manylinux_2_5_x86_64.manylinux1_x86_64.manylinux_2_17_x86_64.manylinux2014_x86_64.whl (225 kB)\n",
      "\u001b[2K     \u001b[38;2;114;156;31m━━━━━━━━━━━━━━━━━━━━━━━━━━━━━━━━━━━━━━\u001b[0m \u001b[32m225.7/225.7 kB\u001b[0m \u001b[31m29.0 MB/s\u001b[0m eta \u001b[36m0:00:00\u001b[0m\n",
      "\u001b[?25hCollecting aiosignal>=1.1.2\n",
      "  Downloading aiosignal-1.3.1-py3-none-any.whl (7.6 kB)\n",
      "Requirement already satisfied: attrs>=17.3.0 in /home/paulo/anaconda3/lib/python3.10/site-packages (from aiohttp->openai) (22.1.0)\n",
      "Collecting multidict<7.0,>=4.5\n",
      "  Downloading multidict-6.0.4-cp310-cp310-manylinux_2_17_x86_64.manylinux2014_x86_64.whl (114 kB)\n",
      "\u001b[2K     \u001b[38;2;114;156;31m━━━━━━━━━━━━━━━━━━━━━━━━━━━━━━━━━━━━━━\u001b[0m \u001b[32m114.5/114.5 kB\u001b[0m \u001b[31m18.6 MB/s\u001b[0m eta \u001b[36m0:00:00\u001b[0m\n",
      "\u001b[?25hInstalling collected packages: multidict, frozenlist, async-timeout, yarl, aiosignal, aiohttp, openai\n",
      "Successfully installed aiohttp-3.8.5 aiosignal-1.3.1 async-timeout-4.0.3 frozenlist-1.4.0 multidict-6.0.4 openai-0.27.8 yarl-1.9.2\n"
     ]
    }
   ],
   "source": [
    "!pip install openai"
   ]
  },
  {
   "cell_type": "code",
   "execution_count": null,
   "id": "bac6930f",
   "metadata": {},
   "outputs": [],
   "source": []
  }
 ],
 "metadata": {
  "kernelspec": {
   "display_name": "Python 3 (ipykernel)",
   "language": "python",
   "name": "python3"
  },
  "language_info": {
   "codemirror_mode": {
    "name": "ipython",
    "version": 3
   },
   "file_extension": ".py",
   "mimetype": "text/x-python",
   "name": "python",
   "nbconvert_exporter": "python",
   "pygments_lexer": "ipython3",
   "version": "3.10.9"
  }
 },
 "nbformat": 4,
 "nbformat_minor": 5
}
